{
 "cells": [
  {
   "cell_type": "markdown",
   "metadata": {},
   "source": [
    "<p><h1><center>Prediction of Stroke</center></h1></p>\n",
    "<p><h2><center>Analyzing clinical data for drivers of stroke</center></h2></p>\n",
    "\n",
    "<h2><a href=\"https://mpavlenk.github.io/Prediction-of-Stroke/Prediction_of_Stroke.html\">Data file</a><h2>\n",
    "<h3><strong>INDEX:</strong><br></h3>\n",
    "<p>1: <a href=\"#Data-processing\">Data processing</a><br>\n",
    "2: <a href=\"#Descriptive-statistics\">Descriptive statistics</a><br>\n",
    "3: <a href=\"#Visualizations\">Visualizations</a><br>\n",
    "4: <a href=\"#Regression analysis\">Regression analysis</a><br>\n",
    "5: <a href=\"#Evaluation of the model\">Evaluation of the model</a><br>                   "
   ]
  },
  {
   "cell_type": "markdown",
   "metadata": {},
   "source": [
    "Importing libraries"
   ]
  },
  {
   "cell_type": "code",
   "execution_count": 5,
   "metadata": {},
   "outputs": [],
   "source": [
    "library(plyr)\n",
    "library(dplyr)\n",
    "library(ggplot2)\n",
    "library(DT)\n",
    "library(psych)\n",
    "library(purrr)\n",
    "library(pscl)\n",
    "library(ROCR)"
   ]
  },
  {
   "cell_type": "markdown",
   "metadata": {},
   "source": [
    "Overview of data"
   ]
  },
  {
   "cell_type": "code",
   "execution_count": 6,
   "metadata": {},
   "outputs": [
    {
     "data": {
      "text/html": [
       "<table>\n",
       "<thead><tr><th scope=col>id</th><th scope=col>gender</th><th scope=col>age</th><th scope=col>hypertension</th><th scope=col>heart_disease</th><th scope=col>ever_married</th><th scope=col>work_type</th><th scope=col>Residence_type</th><th scope=col>avg_glucose_level</th><th scope=col>bmi</th><th scope=col>smoking_status</th><th scope=col>stroke</th></tr></thead>\n",
       "<tbody>\n",
       "\t<tr><td>30669          </td><td>Male           </td><td> 3             </td><td>0              </td><td>0              </td><td>No             </td><td>children       </td><td>Rural          </td><td> 95.12         </td><td>18.0           </td><td>               </td><td>0              </td></tr>\n",
       "\t<tr><td>30468          </td><td>Male           </td><td>58             </td><td>1              </td><td>0              </td><td>Yes            </td><td>Private        </td><td>Urban          </td><td> 87.96         </td><td>39.2           </td><td>never smoked   </td><td>0              </td></tr>\n",
       "\t<tr><td>16523          </td><td>Female         </td><td> 8             </td><td>0              </td><td>0              </td><td>No             </td><td>Private        </td><td>Urban          </td><td>110.89         </td><td>17.6           </td><td>               </td><td>0              </td></tr>\n",
       "\t<tr><td>56543          </td><td>Female         </td><td>70             </td><td>0              </td><td>0              </td><td>Yes            </td><td>Private        </td><td>Rural          </td><td> 69.04         </td><td>35.9           </td><td>formerly smoked</td><td>0              </td></tr>\n",
       "\t<tr><td>46136          </td><td>Male           </td><td>14             </td><td>0              </td><td>0              </td><td>No             </td><td>Never_worked   </td><td>Rural          </td><td>161.28         </td><td>19.1           </td><td>               </td><td>0              </td></tr>\n",
       "\t<tr><td>32257          </td><td>Female         </td><td>47             </td><td>0              </td><td>0              </td><td>Yes            </td><td>Private        </td><td>Urban          </td><td>210.95         </td><td>50.1           </td><td>               </td><td>0              </td></tr>\n",
       "</tbody>\n",
       "</table>\n"
      ],
      "text/latex": [
       "\\begin{tabular}{r|llllllllllll}\n",
       " id & gender & age & hypertension & heart\\_disease & ever\\_married & work\\_type & Residence\\_type & avg\\_glucose\\_level & bmi & smoking\\_status & stroke\\\\\n",
       "\\hline\n",
       "\t 30669           & Male            &  3              & 0               & 0               & No              & children        & Rural           &  95.12          & 18.0            &                 & 0              \\\\\n",
       "\t 30468           & Male            & 58              & 1               & 0               & Yes             & Private         & Urban           &  87.96          & 39.2            & never smoked    & 0              \\\\\n",
       "\t 16523           & Female          &  8              & 0               & 0               & No              & Private         & Urban           & 110.89          & 17.6            &                 & 0              \\\\\n",
       "\t 56543           & Female          & 70              & 0               & 0               & Yes             & Private         & Rural           &  69.04          & 35.9            & formerly smoked & 0              \\\\\n",
       "\t 46136           & Male            & 14              & 0               & 0               & No              & Never\\_worked  & Rural           & 161.28          & 19.1            &                 & 0              \\\\\n",
       "\t 32257           & Female          & 47              & 0               & 0               & Yes             & Private         & Urban           & 210.95          & 50.1            &                 & 0              \\\\\n",
       "\\end{tabular}\n"
      ],
      "text/markdown": [
       "\n",
       "| id | gender | age | hypertension | heart_disease | ever_married | work_type | Residence_type | avg_glucose_level | bmi | smoking_status | stroke |\n",
       "|---|---|---|---|---|---|---|---|---|---|---|---|\n",
       "| 30669           | Male            |  3              | 0               | 0               | No              | children        | Rural           |  95.12          | 18.0            |                 | 0               |\n",
       "| 30468           | Male            | 58              | 1               | 0               | Yes             | Private         | Urban           |  87.96          | 39.2            | never smoked    | 0               |\n",
       "| 16523           | Female          |  8              | 0               | 0               | No              | Private         | Urban           | 110.89          | 17.6            |                 | 0               |\n",
       "| 56543           | Female          | 70              | 0               | 0               | Yes             | Private         | Rural           |  69.04          | 35.9            | formerly smoked | 0               |\n",
       "| 46136           | Male            | 14              | 0               | 0               | No              | Never_worked    | Rural           | 161.28          | 19.1            |                 | 0               |\n",
       "| 32257           | Female          | 47              | 0               | 0               | Yes             | Private         | Urban           | 210.95          | 50.1            |                 | 0               |\n",
       "\n"
      ],
      "text/plain": [
       "  id    gender age hypertension heart_disease ever_married work_type   \n",
       "1 30669 Male    3  0            0             No           children    \n",
       "2 30468 Male   58  1            0             Yes          Private     \n",
       "3 16523 Female  8  0            0             No           Private     \n",
       "4 56543 Female 70  0            0             Yes          Private     \n",
       "5 46136 Male   14  0            0             No           Never_worked\n",
       "6 32257 Female 47  0            0             Yes          Private     \n",
       "  Residence_type avg_glucose_level bmi  smoking_status  stroke\n",
       "1 Rural           95.12            18.0                 0     \n",
       "2 Urban           87.96            39.2 never smoked    0     \n",
       "3 Urban          110.89            17.6                 0     \n",
       "4 Rural           69.04            35.9 formerly smoked 0     \n",
       "5 Rural          161.28            19.1                 0     \n",
       "6 Urban          210.95            50.1                 0     "
      ]
     },
     "metadata": {},
     "output_type": "display_data"
    }
   ],
   "source": [
    "train.data<-read.csv(\"train_2v.csv\", header = TRUE)\n",
    "head(train.data)"
   ]
  },
  {
   "cell_type": "code",
   "execution_count": 7,
   "metadata": {},
   "outputs": [
    {
     "name": "stdout",
     "output_type": "stream",
     "text": [
      "'data.frame':\t43400 obs. of  12 variables:\n",
      " $ id               : int  30669 30468 16523 56543 46136 32257 52800 41413 15266 28674 ...\n",
      " $ gender           : Factor w/ 3 levels \"Female\",\"Male\",..: 2 2 1 1 2 1 1 1 1 1 ...\n",
      " $ age              : num  3 58 8 70 14 47 52 75 32 74 ...\n",
      " $ hypertension     : int  0 1 0 0 0 0 0 0 0 1 ...\n",
      " $ heart_disease    : int  0 0 0 0 0 0 0 1 0 0 ...\n",
      " $ ever_married     : Factor w/ 2 levels \"No\",\"Yes\": 1 2 1 2 1 2 2 2 2 2 ...\n",
      " $ work_type        : Factor w/ 5 levels \"children\",\"Govt_job\",..: 1 4 4 4 3 4 4 5 4 5 ...\n",
      " $ Residence_type   : Factor w/ 2 levels \"Rural\",\"Urban\": 1 2 2 1 1 2 2 1 1 2 ...\n",
      " $ avg_glucose_level: num  95.1 88 110.9 69 161.3 ...\n",
      " $ bmi              : num  18 39.2 17.6 35.9 19.1 50.1 17.7 27 32.3 54.6 ...\n",
      " $ smoking_status   : Factor w/ 4 levels \"\",\"formerly smoked\",..: 1 3 1 2 1 1 2 3 4 3 ...\n",
      " $ stroke           : int  0 0 0 0 0 0 0 0 0 0 ...\n"
     ]
    }
   ],
   "source": [
    "# We have 3 data types in the dataset: categorical, numeric, IDs.\n",
    "# 12 variables and 43400 observations.\n",
    "str(train.data)"
   ]
  },
  {
   "cell_type": "markdown",
   "metadata": {},
   "source": [
    "<h1><font color=\"red\"><center id=\"Data-processing\">Data processing<a class=\"anchor-link\" href=\"#Data-processing\">&#182;</a><center></font></h1>"
   ]
  },
  {
   "cell_type": "markdown",
   "metadata": {},
   "source": [
    "a) Quantifying missing values"
   ]
  },
  {
   "cell_type": "code",
   "execution_count": 8,
   "metadata": {},
   "outputs": [
    {
     "data": {
      "text/html": [
       "<dl class=dl-horizontal>\n",
       "\t<dt>bmi</dt>\n",
       "\t\t<dd>3.36866359447005</dd>\n",
       "\t<dt>id</dt>\n",
       "\t\t<dd>0</dd>\n",
       "\t<dt>gender</dt>\n",
       "\t\t<dd>0</dd>\n",
       "\t<dt>age</dt>\n",
       "\t\t<dd>0</dd>\n",
       "\t<dt>hypertension</dt>\n",
       "\t\t<dd>0</dd>\n",
       "\t<dt>heart_disease</dt>\n",
       "\t\t<dd>0</dd>\n",
       "\t<dt>ever_married</dt>\n",
       "\t\t<dd>0</dd>\n",
       "\t<dt>work_type</dt>\n",
       "\t\t<dd>0</dd>\n",
       "\t<dt>Residence_type</dt>\n",
       "\t\t<dd>0</dd>\n",
       "\t<dt>avg_glucose_level</dt>\n",
       "\t\t<dd>0</dd>\n",
       "\t<dt>smoking_status</dt>\n",
       "\t\t<dd>0</dd>\n",
       "\t<dt>stroke</dt>\n",
       "\t\t<dd>0</dd>\n",
       "</dl>\n"
      ],
      "text/latex": [
       "\\begin{description*}\n",
       "\\item[bmi] 3.36866359447005\n",
       "\\item[id] 0\n",
       "\\item[gender] 0\n",
       "\\item[age] 0\n",
       "\\item[hypertension] 0\n",
       "\\item[heart\\textbackslash{}\\_disease] 0\n",
       "\\item[ever\\textbackslash{}\\_married] 0\n",
       "\\item[work\\textbackslash{}\\_type] 0\n",
       "\\item[Residence\\textbackslash{}\\_type] 0\n",
       "\\item[avg\\textbackslash{}\\_glucose\\textbackslash{}\\_level] 0\n",
       "\\item[smoking\\textbackslash{}\\_status] 0\n",
       "\\item[stroke] 0\n",
       "\\end{description*}\n"
      ],
      "text/markdown": [
       "bmi\n",
       ":   3.36866359447005id\n",
       ":   0gender\n",
       ":   0age\n",
       ":   0hypertension\n",
       ":   0heart_disease\n",
       ":   0ever_married\n",
       ":   0work_type\n",
       ":   0Residence_type\n",
       ":   0avg_glucose_level\n",
       ":   0smoking_status\n",
       ":   0stroke\n",
       ":   0\n",
       "\n"
      ],
      "text/plain": [
       "              bmi                id            gender               age \n",
       "         3.368664          0.000000          0.000000          0.000000 \n",
       "     hypertension     heart_disease      ever_married         work_type \n",
       "         0.000000          0.000000          0.000000          0.000000 \n",
       "   Residence_type avg_glucose_level    smoking_status            stroke \n",
       "         0.000000          0.000000          0.000000          0.000000 "
      ]
     },
     "metadata": {},
     "output_type": "display_data"
    }
   ],
   "source": [
    "# BMI has 3.4% of missing values. \n",
    "sort(apply(train.data, 2, function(x){sum(is.na(x))/length(x)}*100), decreasing = TRUE)"
   ]
  },
  {
   "cell_type": "code",
   "execution_count": 9,
   "metadata": {},
   "outputs": [],
   "source": [
    "#Replacing NAs with mean values in bmi \n",
    "train.data$bmi<-ifelse(is.na(train.data$bmi), mean(train.data$bmi, na.rm = TRUE), train.data$bmi)"
   ]
  },
  {
   "cell_type": "code",
   "execution_count": 10,
   "metadata": {},
   "outputs": [],
   "source": [
    "#Replacing blanks with \"Unknown\" for smoking_status\n",
    "train.data$smoking_status[train.data$smoking_status==\"\"]<-NA\n",
    "train.data$smoking_status<-as.factor(ifelse(is.na(train.data$smoking_status), \"Unknown\", paste(train.data$smoking_status)))"
   ]
  },
  {
   "cell_type": "markdown",
   "metadata": {},
   "source": [
    "b) eliminating useless attributes (unique values - IDs)"
   ]
  },
  {
   "cell_type": "code",
   "execution_count": 11,
   "metadata": {},
   "outputs": [],
   "source": [
    "train.data<-subset(train.data, select=-c(id))"
   ]
  },
  {
   "cell_type": "code",
   "execution_count": 12,
   "metadata": {},
   "outputs": [],
   "source": [
    "#removing \"others\" from gender \n",
    "train.data<-filter(train.data, gender!=\"Other\")"
   ]
  },
  {
   "cell_type": "markdown",
   "metadata": {},
   "source": [
    "c) converting categorical variables to dummy variables"
   ]
  },
  {
   "cell_type": "code",
   "execution_count": 13,
   "metadata": {},
   "outputs": [],
   "source": [
    "train.data$male=ifelse(train.data$gender==\"Male\",1,0)\n",
    "train.data$gender=NULL\n",
    "train.data$married=ifelse(train.data$ever_married==\"Yes\",1,0)\n",
    "train.data$ever_married=NULL\n",
    "train.data$rural_res=ifelse(train.data$Residence_type==\"Rural\",1,0)\n",
    "train.data$Residence_type=NULL"
   ]
  },
  {
   "cell_type": "markdown",
   "metadata": {},
   "source": [
    "<h1><font color=\"red\"><center id=Descriptive-statistics\">Descriptive statistics<a class=\"anchor-link\" href=\"#\"Descriptive-statistics\">&#182;</a><center></font></h1>"
   ]
  },
  {
   "cell_type": "code",
   "execution_count": 14,
   "metadata": {},
   "outputs": [
    {
     "data": {
      "text/html": [
       "<dl>\n",
       "\t<dt>$`0`</dt>\n",
       "\t\t<dd><table>\n",
       "<thead><tr><th></th><th scope=col>vars</th><th scope=col>n</th><th scope=col>mean</th><th scope=col>sd</th><th scope=col>median</th><th scope=col>trimmed</th><th scope=col>mad</th><th scope=col>min</th><th scope=col>max</th><th scope=col>range</th><th scope=col>skew</th><th scope=col>kurtosis</th><th scope=col>se</th></tr></thead>\n",
       "<tbody>\n",
       "\t<tr><th scope=row>age</th><td> 1          </td><td>42606       </td><td> 41.74332911</td><td>22.3862265  </td><td>43.00       </td><td>41.9455495  </td><td>26.68680    </td><td> 0.08       </td><td> 82.00      </td><td> 81.92      </td><td>-0.086933019</td><td>-0.9935530  </td><td>0.1084539843</td></tr>\n",
       "\t<tr><th scope=row>hypertension</th><td> 2          </td><td>42606       </td><td>  0.09062104</td><td> 0.2870728  </td><td> 0.00       </td><td> 0.0000000  </td><td> 0.00000    </td><td> 0.00       </td><td>  1.00      </td><td>  1.00      </td><td> 2.852024515</td><td> 6.1341878  </td><td>0.0013907744</td></tr>\n",
       "\t<tr><th scope=row>heart_disease</th><td> 3          </td><td>42606       </td><td>  0.04424259</td><td> 0.2056360  </td><td> 0.00       </td><td> 0.0000000  </td><td> 0.00000    </td><td> 0.00       </td><td>  1.00      </td><td>  1.00      </td><td> 4.432556783</td><td>17.6479738  </td><td>0.0009962397</td></tr>\n",
       "\t<tr><th scope=row>work_type*</th><td> 4          </td><td>42606       </td><td>  3.46512228</td><td> 1.2935857  </td><td> 4.00       </td><td> 3.5813824  </td><td> 0.00000    </td><td> 1.00       </td><td>  5.00      </td><td>  4.00      </td><td>-0.884896293</td><td>-0.5680437  </td><td>0.0062670019</td></tr>\n",
       "\t<tr><th scope=row>avg_glucose_level</th><td> 5          </td><td>42606       </td><td>104.02555485</td><td>42.6122105  </td><td>91.47       </td><td>95.8772065  </td><td>23.94399    </td><td>55.00       </td><td>291.05      </td><td>236.05      </td><td> 1.700284299</td><td> 2.3166207  </td><td>0.2064422967</td></tr>\n",
       "\t<tr><th scope=row>bmi</th><td> 6          </td><td>42606       </td><td> 28.58609211</td><td> 7.6673450  </td><td>28.00       </td><td>28.0614135  </td><td> 6.81996    </td><td>10.10       </td><td> 97.60      </td><td> 87.50      </td><td> 0.915753345</td><td> 2.1515728  </td><td>0.0371457919</td></tr>\n",
       "\t<tr><th scope=row>smoking_status*</th><td> 7          </td><td>42606       </td><td>  2.59738065</td><td> 1.0948393  </td><td> 2.00       </td><td> 2.6217215  </td><td> 1.48260    </td><td> 1.00       </td><td>  4.00      </td><td>  3.00      </td><td> 0.066447752</td><td>-1.3605695  </td><td>0.0053041403</td></tr>\n",
       "\t<tr><th scope=row>stroke</th><td> 8          </td><td>42606       </td><td>  0.00000000</td><td> 0.0000000  </td><td> 0.00       </td><td> 0.0000000  </td><td> 0.00000    </td><td> 0.00       </td><td>  0.00      </td><td>  0.00      </td><td>         NaN</td><td>       NaN  </td><td>0.0000000000</td></tr>\n",
       "\t<tr><th scope=row>male</th><td> 9          </td><td>42606       </td><td>  0.40773600</td><td> 0.4914194  </td><td> 0.00       </td><td> 0.3846741  </td><td> 0.00000    </td><td> 0.00       </td><td>  1.00      </td><td>  1.00      </td><td> 0.375491223</td><td>-1.8590500  </td><td>0.0023807671</td></tr>\n",
       "\t<tr><th scope=row>married</th><td>10          </td><td>42606       </td><td>  0.63911186</td><td> 0.4802638  </td><td> 1.00       </td><td> 0.6738837  </td><td> 0.00000    </td><td> 0.00       </td><td>  1.00      </td><td>  1.00      </td><td>-0.579300798</td><td>-1.6644496  </td><td>0.0023267218</td></tr>\n",
       "\t<tr><th scope=row>rural_res</th><td>11          </td><td>42606       </td><td>  0.49884993</td><td> 0.5000045  </td><td> 0.00       </td><td> 0.4985625  </td><td> 0.00000    </td><td> 0.00       </td><td>  1.00      </td><td>  1.00      </td><td> 0.004600141</td><td>-2.0000258  </td><td>0.0024223594</td></tr>\n",
       "</tbody>\n",
       "</table>\n",
       "</dd>\n",
       "\t<dt>$`1`</dt>\n",
       "\t\t<dd><table>\n",
       "<thead><tr><th></th><th scope=col>vars</th><th scope=col>n</th><th scope=col>mean</th><th scope=col>sd</th><th scope=col>median</th><th scope=col>trimmed</th><th scope=col>mad</th><th scope=col>min</th><th scope=col>max</th><th scope=col>range</th><th scope=col>skew</th><th scope=col>kurtosis</th><th scope=col>se</th></tr></thead>\n",
       "<tbody>\n",
       "\t<tr><th scope=row>age</th><td> 1         </td><td>783        </td><td> 68.1434483</td><td>12.3165365 </td><td> 71.00000  </td><td> 69.6810207</td><td>11.86080   </td><td> 1.32      </td><td> 82.00     </td><td> 80.68     </td><td>-1.11719691</td><td> 1.3255164 </td><td>0.44015711 </td></tr>\n",
       "\t<tr><th scope=row>hypertension</th><td> 2         </td><td>783        </td><td>  0.2554278</td><td> 0.4363802 </td><td>  0.00000  </td><td>  0.1945774</td><td> 0.00000   </td><td> 0.00      </td><td>  1.00     </td><td>  1.00     </td><td> 1.11948167</td><td>-0.7477108 </td><td>0.01559496 </td></tr>\n",
       "\t<tr><th scope=row>heart_disease</th><td> 3         </td><td>783        </td><td>  0.2260536</td><td> 0.4185417 </td><td>  0.00000  </td><td>  0.1578947</td><td> 0.00000   </td><td> 0.00      </td><td>  1.00     </td><td>  1.00     </td><td> 1.30737999</td><td>-0.2911245 </td><td>0.01495746 </td></tr>\n",
       "\t<tr><th scope=row>work_type*</th><td> 4         </td><td>783        </td><td>  4.0855683</td><td> 0.8898884 </td><td>  4.00000  </td><td>  4.2344498</td><td> 0.00000   </td><td> 1.00      </td><td>  5.00     </td><td>  4.00     </td><td>-1.22232699</td><td> 1.1557968 </td><td>0.03180202 </td></tr>\n",
       "\t<tr><th scope=row>avg_glucose_level</th><td> 5         </td><td>783        </td><td>129.5826692</td><td>59.7340728 </td><td>104.47000  </td><td>124.7507974</td><td>46.99842   </td><td>55.01      </td><td>271.74     </td><td>216.73     </td><td> 0.62601436</td><td>-1.1313453 </td><td>2.13472161 </td></tr>\n",
       "\t<tr><th scope=row>bmi</th><td> 6         </td><td>783        </td><td> 29.6422802</td><td> 5.7692936 </td><td> 28.60504  </td><td> 29.1591792</td><td> 4.14381   </td><td>14.30      </td><td> 56.60     </td><td> 42.30     </td><td> 1.02686457</td><td> 2.1128410 </td><td>0.20617773 </td></tr>\n",
       "\t<tr><th scope=row>smoking_status*</th><td> 7         </td><td>783        </td><td>  2.2579821</td><td> 1.0619480 </td><td>  2.00000  </td><td>  2.1977671</td><td> 1.48260   </td><td> 1.00      </td><td>  4.00     </td><td>  3.00     </td><td> 0.40099783</td><td>-1.0615294 </td><td>0.03795092 </td></tr>\n",
       "\t<tr><th scope=row>stroke</th><td> 8         </td><td>783        </td><td>  1.0000000</td><td> 0.0000000 </td><td>  1.00000  </td><td>  1.0000000</td><td> 0.00000   </td><td> 1.00      </td><td>  1.00     </td><td>  0.00     </td><td>        NaN</td><td>       NaN </td><td>0.00000000 </td></tr>\n",
       "\t<tr><th scope=row>male</th><td> 9         </td><td>783        </td><td>  0.4495530</td><td> 0.4977666 </td><td>  0.00000  </td><td>  0.4370016</td><td> 0.00000   </td><td> 0.00      </td><td>  1.00     </td><td>  1.00     </td><td> 0.20243454</td><td>-1.9615205 </td><td>0.01778873 </td></tr>\n",
       "\t<tr><th scope=row>married</th><td>10         </td><td>783        </td><td>  0.8978289</td><td> 0.3030668 </td><td>  1.00000  </td><td>  0.9968102</td><td> 0.00000   </td><td> 0.00      </td><td>  1.00     </td><td>  1.00     </td><td>-2.62200115</td><td> 4.8811288 </td><td>0.01083072 </td></tr>\n",
       "\t<tr><th scope=row>rural_res</th><td>11         </td><td>783        </td><td>  0.4904215</td><td> 0.5002278 </td><td>  0.00000  </td><td>  0.4880383</td><td> 0.00000   </td><td> 0.00      </td><td>  1.00     </td><td>  1.00     </td><td> 0.03824782</td><td>-2.0010879 </td><td>0.01787668 </td></tr>\n",
       "</tbody>\n",
       "</table>\n",
       "</dd>\n",
       "</dl>\n"
      ],
      "text/latex": [
       "\\begin{description}\n",
       "\\item[\\$`0`] \\begin{tabular}{r|lllllllllllll}\n",
       "  & vars & n & mean & sd & median & trimmed & mad & min & max & range & skew & kurtosis & se\\\\\n",
       "\\hline\n",
       "\tage &  1           & 42606        &  41.74332911 & 22.3862265   & 43.00        & 41.9455495   & 26.68680     &  0.08        &  82.00       &  81.92       & -0.086933019 & -0.9935530   & 0.1084539843\\\\\n",
       "\thypertension &  2           & 42606        &   0.09062104 &  0.2870728   &  0.00        &  0.0000000   &  0.00000     &  0.00        &   1.00       &   1.00       &  2.852024515 &  6.1341878   & 0.0013907744\\\\\n",
       "\theart\\_disease &  3           & 42606        &   0.04424259 &  0.2056360   &  0.00        &  0.0000000   &  0.00000     &  0.00        &   1.00       &   1.00       &  4.432556783 & 17.6479738   & 0.0009962397\\\\\n",
       "\twork\\_type* &  4           & 42606        &   3.46512228 &  1.2935857   &  4.00        &  3.5813824   &  0.00000     &  1.00        &   5.00       &   4.00       & -0.884896293 & -0.5680437   & 0.0062670019\\\\\n",
       "\tavg\\_glucose\\_level &  5           & 42606        & 104.02555485 & 42.6122105   & 91.47        & 95.8772065   & 23.94399     & 55.00        & 291.05       & 236.05       &  1.700284299 &  2.3166207   & 0.2064422967\\\\\n",
       "\tbmi &  6           & 42606        &  28.58609211 &  7.6673450   & 28.00        & 28.0614135   &  6.81996     & 10.10        &  97.60       &  87.50       &  0.915753345 &  2.1515728   & 0.0371457919\\\\\n",
       "\tsmoking\\_status* &  7           & 42606        &   2.59738065 &  1.0948393   &  2.00        &  2.6217215   &  1.48260     &  1.00        &   4.00       &   3.00       &  0.066447752 & -1.3605695   & 0.0053041403\\\\\n",
       "\tstroke &  8           & 42606        &   0.00000000 &  0.0000000   &  0.00        &  0.0000000   &  0.00000     &  0.00        &   0.00       &   0.00       &          NaN &        NaN   & 0.0000000000\\\\\n",
       "\tmale &  9           & 42606        &   0.40773600 &  0.4914194   &  0.00        &  0.3846741   &  0.00000     &  0.00        &   1.00       &   1.00       &  0.375491223 & -1.8590500   & 0.0023807671\\\\\n",
       "\tmarried & 10           & 42606        &   0.63911186 &  0.4802638   &  1.00        &  0.6738837   &  0.00000     &  0.00        &   1.00       &   1.00       & -0.579300798 & -1.6644496   & 0.0023267218\\\\\n",
       "\trural\\_res & 11           & 42606        &   0.49884993 &  0.5000045   &  0.00        &  0.4985625   &  0.00000     &  0.00        &   1.00       &   1.00       &  0.004600141 & -2.0000258   & 0.0024223594\\\\\n",
       "\\end{tabular}\n",
       "\n",
       "\\item[\\$`1`] \\begin{tabular}{r|lllllllllllll}\n",
       "  & vars & n & mean & sd & median & trimmed & mad & min & max & range & skew & kurtosis & se\\\\\n",
       "\\hline\n",
       "\tage &  1          & 783         &  68.1434483 & 12.3165365  &  71.00000   &  69.6810207 & 11.86080    &  1.32       &  82.00      &  80.68      & -1.11719691 &  1.3255164  & 0.44015711 \\\\\n",
       "\thypertension &  2          & 783         &   0.2554278 &  0.4363802  &   0.00000   &   0.1945774 &  0.00000    &  0.00       &   1.00      &   1.00      &  1.11948167 & -0.7477108  & 0.01559496 \\\\\n",
       "\theart\\_disease &  3          & 783         &   0.2260536 &  0.4185417  &   0.00000   &   0.1578947 &  0.00000    &  0.00       &   1.00      &   1.00      &  1.30737999 & -0.2911245  & 0.01495746 \\\\\n",
       "\twork\\_type* &  4          & 783         &   4.0855683 &  0.8898884  &   4.00000   &   4.2344498 &  0.00000    &  1.00       &   5.00      &   4.00      & -1.22232699 &  1.1557968  & 0.03180202 \\\\\n",
       "\tavg\\_glucose\\_level &  5          & 783         & 129.5826692 & 59.7340728  & 104.47000   & 124.7507974 & 46.99842    & 55.01       & 271.74      & 216.73      &  0.62601436 & -1.1313453  & 2.13472161 \\\\\n",
       "\tbmi &  6          & 783         &  29.6422802 &  5.7692936  &  28.60504   &  29.1591792 &  4.14381    & 14.30       &  56.60      &  42.30      &  1.02686457 &  2.1128410  & 0.20617773 \\\\\n",
       "\tsmoking\\_status* &  7          & 783         &   2.2579821 &  1.0619480  &   2.00000   &   2.1977671 &  1.48260    &  1.00       &   4.00      &   3.00      &  0.40099783 & -1.0615294  & 0.03795092 \\\\\n",
       "\tstroke &  8          & 783         &   1.0000000 &  0.0000000  &   1.00000   &   1.0000000 &  0.00000    &  1.00       &   1.00      &   0.00      &         NaN &        NaN  & 0.00000000 \\\\\n",
       "\tmale &  9          & 783         &   0.4495530 &  0.4977666  &   0.00000   &   0.4370016 &  0.00000    &  0.00       &   1.00      &   1.00      &  0.20243454 & -1.9615205  & 0.01778873 \\\\\n",
       "\tmarried & 10          & 783         &   0.8978289 &  0.3030668  &   1.00000   &   0.9968102 &  0.00000    &  0.00       &   1.00      &   1.00      & -2.62200115 &  4.8811288  & 0.01083072 \\\\\n",
       "\trural\\_res & 11          & 783         &   0.4904215 &  0.5002278  &   0.00000   &   0.4880383 &  0.00000    &  0.00       &   1.00      &   1.00      &  0.03824782 & -2.0010879  & 0.01787668 \\\\\n",
       "\\end{tabular}\n",
       "\n",
       "\\end{description}\n"
      ],
      "text/markdown": [
       "$`0`\n",
       ":   \n",
       "| <!--/--> | vars | n | mean | sd | median | trimmed | mad | min | max | range | skew | kurtosis | se |\n",
       "|---|---|---|---|---|---|---|---|---|---|---|---|---|---|\n",
       "| age |  1           | 42606        |  41.74332911 | 22.3862265   | 43.00        | 41.9455495   | 26.68680     |  0.08        |  82.00       |  81.92       | -0.086933019 | -0.9935530   | 0.1084539843 |\n",
       "| hypertension |  2           | 42606        |   0.09062104 |  0.2870728   |  0.00        |  0.0000000   |  0.00000     |  0.00        |   1.00       |   1.00       |  2.852024515 |  6.1341878   | 0.0013907744 |\n",
       "| heart_disease |  3           | 42606        |   0.04424259 |  0.2056360   |  0.00        |  0.0000000   |  0.00000     |  0.00        |   1.00       |   1.00       |  4.432556783 | 17.6479738   | 0.0009962397 |\n",
       "| work_type* |  4           | 42606        |   3.46512228 |  1.2935857   |  4.00        |  3.5813824   |  0.00000     |  1.00        |   5.00       |   4.00       | -0.884896293 | -0.5680437   | 0.0062670019 |\n",
       "| avg_glucose_level |  5           | 42606        | 104.02555485 | 42.6122105   | 91.47        | 95.8772065   | 23.94399     | 55.00        | 291.05       | 236.05       |  1.700284299 |  2.3166207   | 0.2064422967 |\n",
       "| bmi |  6           | 42606        |  28.58609211 |  7.6673450   | 28.00        | 28.0614135   |  6.81996     | 10.10        |  97.60       |  87.50       |  0.915753345 |  2.1515728   | 0.0371457919 |\n",
       "| smoking_status* |  7           | 42606        |   2.59738065 |  1.0948393   |  2.00        |  2.6217215   |  1.48260     |  1.00        |   4.00       |   3.00       |  0.066447752 | -1.3605695   | 0.0053041403 |\n",
       "| stroke |  8           | 42606        |   0.00000000 |  0.0000000   |  0.00        |  0.0000000   |  0.00000     |  0.00        |   0.00       |   0.00       |          NaN |        NaN   | 0.0000000000 |\n",
       "| male |  9           | 42606        |   0.40773600 |  0.4914194   |  0.00        |  0.3846741   |  0.00000     |  0.00        |   1.00       |   1.00       |  0.375491223 | -1.8590500   | 0.0023807671 |\n",
       "| married | 10           | 42606        |   0.63911186 |  0.4802638   |  1.00        |  0.6738837   |  0.00000     |  0.00        |   1.00       |   1.00       | -0.579300798 | -1.6644496   | 0.0023267218 |\n",
       "| rural_res | 11           | 42606        |   0.49884993 |  0.5000045   |  0.00        |  0.4985625   |  0.00000     |  0.00        |   1.00       |   1.00       |  0.004600141 | -2.0000258   | 0.0024223594 |\n",
       "\n",
       "\n",
       "$`1`\n",
       ":   \n",
       "| <!--/--> | vars | n | mean | sd | median | trimmed | mad | min | max | range | skew | kurtosis | se |\n",
       "|---|---|---|---|---|---|---|---|---|---|---|---|---|---|\n",
       "| age |  1          | 783         |  68.1434483 | 12.3165365  |  71.00000   |  69.6810207 | 11.86080    |  1.32       |  82.00      |  80.68      | -1.11719691 |  1.3255164  | 0.44015711  |\n",
       "| hypertension |  2          | 783         |   0.2554278 |  0.4363802  |   0.00000   |   0.1945774 |  0.00000    |  0.00       |   1.00      |   1.00      |  1.11948167 | -0.7477108  | 0.01559496  |\n",
       "| heart_disease |  3          | 783         |   0.2260536 |  0.4185417  |   0.00000   |   0.1578947 |  0.00000    |  0.00       |   1.00      |   1.00      |  1.30737999 | -0.2911245  | 0.01495746  |\n",
       "| work_type* |  4          | 783         |   4.0855683 |  0.8898884  |   4.00000   |   4.2344498 |  0.00000    |  1.00       |   5.00      |   4.00      | -1.22232699 |  1.1557968  | 0.03180202  |\n",
       "| avg_glucose_level |  5          | 783         | 129.5826692 | 59.7340728  | 104.47000   | 124.7507974 | 46.99842    | 55.01       | 271.74      | 216.73      |  0.62601436 | -1.1313453  | 2.13472161  |\n",
       "| bmi |  6          | 783         |  29.6422802 |  5.7692936  |  28.60504   |  29.1591792 |  4.14381    | 14.30       |  56.60      |  42.30      |  1.02686457 |  2.1128410  | 0.20617773  |\n",
       "| smoking_status* |  7          | 783         |   2.2579821 |  1.0619480  |   2.00000   |   2.1977671 |  1.48260    |  1.00       |   4.00      |   3.00      |  0.40099783 | -1.0615294  | 0.03795092  |\n",
       "| stroke |  8          | 783         |   1.0000000 |  0.0000000  |   1.00000   |   1.0000000 |  0.00000    |  1.00       |   1.00      |   0.00      |         NaN |        NaN  | 0.00000000  |\n",
       "| male |  9          | 783         |   0.4495530 |  0.4977666  |   0.00000   |   0.4370016 |  0.00000    |  0.00       |   1.00      |   1.00      |  0.20243454 | -1.9615205  | 0.01778873  |\n",
       "| married | 10          | 783         |   0.8978289 |  0.3030668  |   1.00000   |   0.9968102 |  0.00000    |  0.00       |   1.00      |   1.00      | -2.62200115 |  4.8811288  | 0.01083072  |\n",
       "| rural_res | 11          | 783         |   0.4904215 |  0.5002278  |   0.00000   |   0.4880383 |  0.00000    |  0.00       |   1.00      |   1.00      |  0.03824782 | -2.0010879  | 0.01787668  |\n",
       "\n",
       "\n",
       "\n",
       "\n"
      ],
      "text/plain": [
       "$`0`\n",
       "                  vars     n   mean    sd median trimmed   mad   min    max\n",
       "age                  1 42606  41.74 22.39  43.00   41.95 26.69  0.08  82.00\n",
       "hypertension         2 42606   0.09  0.29   0.00    0.00  0.00  0.00   1.00\n",
       "heart_disease        3 42606   0.04  0.21   0.00    0.00  0.00  0.00   1.00\n",
       "work_type*           4 42606   3.47  1.29   4.00    3.58  0.00  1.00   5.00\n",
       "avg_glucose_level    5 42606 104.03 42.61  91.47   95.88 23.94 55.00 291.05\n",
       "bmi                  6 42606  28.59  7.67  28.00   28.06  6.82 10.10  97.60\n",
       "smoking_status*      7 42606   2.60  1.09   2.00    2.62  1.48  1.00   4.00\n",
       "stroke               8 42606   0.00  0.00   0.00    0.00  0.00  0.00   0.00\n",
       "male                 9 42606   0.41  0.49   0.00    0.38  0.00  0.00   1.00\n",
       "married             10 42606   0.64  0.48   1.00    0.67  0.00  0.00   1.00\n",
       "rural_res           11 42606   0.50  0.50   0.00    0.50  0.00  0.00   1.00\n",
       "                   range  skew kurtosis   se\n",
       "age                81.92 -0.09    -0.99 0.11\n",
       "hypertension        1.00  2.85     6.13 0.00\n",
       "heart_disease       1.00  4.43    17.65 0.00\n",
       "work_type*          4.00 -0.88    -0.57 0.01\n",
       "avg_glucose_level 236.05  1.70     2.32 0.21\n",
       "bmi                87.50  0.92     2.15 0.04\n",
       "smoking_status*     3.00  0.07    -1.36 0.01\n",
       "stroke              0.00   NaN      NaN 0.00\n",
       "male                1.00  0.38    -1.86 0.00\n",
       "married             1.00 -0.58    -1.66 0.00\n",
       "rural_res           1.00  0.00    -2.00 0.00\n",
       "\n",
       "$`1`\n",
       "                  vars   n   mean    sd median trimmed   mad   min    max\n",
       "age                  1 783  68.14 12.32  71.00   69.68 11.86  1.32  82.00\n",
       "hypertension         2 783   0.26  0.44   0.00    0.19  0.00  0.00   1.00\n",
       "heart_disease        3 783   0.23  0.42   0.00    0.16  0.00  0.00   1.00\n",
       "work_type*           4 783   4.09  0.89   4.00    4.23  0.00  1.00   5.00\n",
       "avg_glucose_level    5 783 129.58 59.73 104.47  124.75 47.00 55.01 271.74\n",
       "bmi                  6 783  29.64  5.77  28.61   29.16  4.14 14.30  56.60\n",
       "smoking_status*      7 783   2.26  1.06   2.00    2.20  1.48  1.00   4.00\n",
       "stroke               8 783   1.00  0.00   1.00    1.00  0.00  1.00   1.00\n",
       "male                 9 783   0.45  0.50   0.00    0.44  0.00  0.00   1.00\n",
       "married             10 783   0.90  0.30   1.00    1.00  0.00  0.00   1.00\n",
       "rural_res           11 783   0.49  0.50   0.00    0.49  0.00  0.00   1.00\n",
       "                   range  skew kurtosis   se\n",
       "age                80.68 -1.12     1.33 0.44\n",
       "hypertension        1.00  1.12    -0.75 0.02\n",
       "heart_disease       1.00  1.31    -0.29 0.01\n",
       "work_type*          4.00 -1.22     1.16 0.03\n",
       "avg_glucose_level 216.73  0.63    -1.13 2.13\n",
       "bmi                42.30  1.03     2.11 0.21\n",
       "smoking_status*     3.00  0.40    -1.06 0.04\n",
       "stroke              0.00   NaN      NaN 0.00\n",
       "male                1.00  0.20    -1.96 0.02\n",
       "married             1.00 -2.62     4.88 0.01\n",
       "rural_res           1.00  0.04    -2.00 0.02\n"
      ]
     },
     "metadata": {},
     "output_type": "display_data"
    }
   ],
   "source": [
    "# This descriptive statistics demonstrates characteristics of each variable for both groups: stroke and non-stroke patients.\n",
    "# From the statistical analysis, we notice that mean values for all variables besided rural_res are \n",
    "# significantly higher for stroke patients than non-stroke patients, therefore we can preliminarily conclude \n",
    "# that individuals who are older with hypertension and/or heart disease with higher level of glucose and bmi are in a\n",
    "#  risk group for stroke. \n",
    "train.data %>% split(.$stroke) %>% map(describe)"
   ]
  },
  {
   "cell_type": "markdown",
   "metadata": {},
   "source": [
    "T-test"
   ]
  },
  {
   "cell_type": "code",
   "execution_count": 15,
   "metadata": {},
   "outputs": [
    {
     "data": {
      "text/plain": [
       "$age\n",
       "\n",
       "\tWelch Two Sample t-test\n",
       "\n",
       "data:  i by train.data$stroke\n",
       "t = -58.237, df = 879.78, p-value < 2.2e-16\n",
       "alternative hypothesis: true difference in means is not equal to 0\n",
       "95 percent confidence interval:\n",
       " -27.28984 -25.51040\n",
       "sample estimates:\n",
       "mean in group 0 mean in group 1 \n",
       "       41.74333        68.14345 \n",
       "\n",
       "\n",
       "$male\n",
       "\n",
       "\tWelch Two Sample t-test\n",
       "\n",
       "data:  i by train.data$stroke\n",
       "t = -2.33, df = 810.26, p-value = 0.02005\n",
       "alternative hypothesis: true difference in means is not equal to 0\n",
       "95 percent confidence interval:\n",
       " -0.07704575 -0.00658825\n",
       "sample estimates:\n",
       "mean in group 0 mean in group 1 \n",
       "       0.407736        0.449553 \n",
       "\n",
       "\n",
       "$hypertension\n",
       "\n",
       "\tWelch Two Sample t-test\n",
       "\n",
       "data:  i by train.data$stroke\n",
       "t = -10.526, df = 794.49, p-value < 2.2e-16\n",
       "alternative hypothesis: true difference in means is not equal to 0\n",
       "95 percent confidence interval:\n",
       " -0.1955405 -0.1340731\n",
       "sample estimates:\n",
       "mean in group 0 mean in group 1 \n",
       "     0.09062104      0.25542784 \n",
       "\n",
       "\n",
       "$heart_disease\n",
       "\n",
       "\tWelch Two Sample t-test\n",
       "\n",
       "data:  i by train.data$stroke\n",
       "t = -12.128, df = 788.95, p-value < 2.2e-16\n",
       "alternative hypothesis: true difference in means is not equal to 0\n",
       "95 percent confidence interval:\n",
       " -0.2112372 -0.1523849\n",
       "sample estimates:\n",
       "mean in group 0 mean in group 1 \n",
       "     0.04424259      0.22605364 \n",
       "\n",
       "\n",
       "$married\n",
       "\n",
       "\tWelch Two Sample t-test\n",
       "\n",
       "data:  i by train.data$stroke\n",
       "t = -23.354, df = 855.81, p-value < 2.2e-16\n",
       "alternative hypothesis: true difference in means is not equal to 0\n",
       "95 percent confidence interval:\n",
       " -0.2804599 -0.2369741\n",
       "sample estimates:\n",
       "mean in group 0 mean in group 1 \n",
       "      0.6391119       0.8978289 \n",
       "\n",
       "\n",
       "$rural_res\n",
       "\n",
       "\tWelch Two Sample t-test\n",
       "\n",
       "data:  i by train.data$stroke\n",
       "t = 0.46721, df = 810.98, p-value = 0.6405\n",
       "alternative hypothesis: true difference in means is not equal to 0\n",
       "95 percent confidence interval:\n",
       " -0.02698224  0.04383918\n",
       "sample estimates:\n",
       "mean in group 0 mean in group 1 \n",
       "      0.4988499       0.4904215 \n",
       "\n",
       "\n",
       "$avg_glucose_level\n",
       "\n",
       "\tWelch Two Sample t-test\n",
       "\n",
       "data:  i by train.data$stroke\n",
       "t = -11.917, df = 796.69, p-value < 2.2e-16\n",
       "alternative hypothesis: true difference in means is not equal to 0\n",
       "95 percent confidence interval:\n",
       " -29.76701 -21.34722\n",
       "sample estimates:\n",
       "mean in group 0 mean in group 1 \n",
       "       104.0256        129.5827 \n",
       "\n",
       "\n",
       "$bmi\n",
       "\n",
       "\tWelch Two Sample t-test\n",
       "\n",
       "data:  i by train.data$stroke\n",
       "t = -5.0415, df = 833.57, p-value = 5.667e-07\n",
       "alternative hypothesis: true difference in means is not equal to 0\n",
       "95 percent confidence interval:\n",
       " -1.4673920 -0.6449841\n",
       "sample estimates:\n",
       "mean in group 0 mean in group 1 \n",
       "       28.58609        29.64228 \n",
       "\n"
      ]
     },
     "metadata": {},
     "output_type": "display_data"
    }
   ],
   "source": [
    "# The T-test shows the difference between mean values of stroke and non-stroke patients for all variables\n",
    "lapply(train.data[,c('age','male' , 'hypertension' , 'heart_disease' ,'married', \n",
    "                     'rural_res' , 'avg_glucose_level' , \n",
    "                     'bmi' )], function(i) t.test(i ~ train.data$stroke))"
   ]
  },
  {
   "cell_type": "markdown",
   "metadata": {},
   "source": [
    "<h1><font color=\"red\"><center id=\"Visualizations\">Visualizations<a class=\"anchor-link\" href=\"#Visualizations\">&#182;</a><center></font></h1>"
   ]
  },
  {
   "cell_type": "code",
   "execution_count": 16,
   "metadata": {},
   "outputs": [
    {
     "data": {
      "image/png": "[encoded data removed]",
      "text/plain": [
       "plot without title"
      ]
     },
     "metadata": {},
     "output_type": "display_data"
    }
   ],
   "source": [
    "# Count of stroke and non-stroke patients by age. This illustration shows that peak of the stoke patients are\n",
    "# in the age range 78-82. The stroke is not oversed in the young group patients 0-32 years old. The average age for a \n",
    "# stroke is about 68 years old.\n",
    "options(repr.plot.width=6, repr.plot.height=4)\n",
    "ggplot(train.data,aes(x=age,group=stroke,fill=stroke))+\n",
    "  geom_histogram(position=\"identity\",binwidth=0.5)+theme_minimal()"
   ]
  },
  {
   "cell_type": "code",
   "execution_count": 17,
   "metadata": {},
   "outputs": [
    {
     "data": {
      "image/png": "[encoded data removed]",
      "text/plain": [
       "plot without title"
      ]
     },
     "metadata": {},
     "output_type": "display_data"
    }
   ],
   "source": [
    "# This graph shows distribution of healthy and unhealthy patients by gender. \n",
    "ggplot(train.data,aes(x=male,group=stroke,fill=stroke))+\n",
    "  geom_histogram(position=\"identity\",binwidth=0.5)+theme_minimal()"
   ]
  },
  {
   "cell_type": "code",
   "execution_count": 46,
   "metadata": {},
   "outputs": [
    {
     "name": "stdout",
     "output_type": "stream",
     "text": [
      "# A tibble: 4 x 4\n",
      "# Groups:   male [2]\n",
      "   male stroke count percent\n",
      "  <dbl> <fct>  <int>   <dbl>\n",
      "1     0 0      25234   98.3 \n",
      "2     0 1        431    1.68\n",
      "3     1 0      17372   98.0 \n",
      "4     1 1        352    1.99\n"
     ]
    }
   ],
   "source": [
    "# The next table quntifies it and we can see that distibution is not significantly different for males and females. \n",
    "m<-train.data%>%\n",
    "  group_by(male, stroke = as.factor(stroke))%>%\n",
    "  summarise(count = n())%>%\n",
    "  mutate(percent = round(count/sum(count)*100,2))%>%\n",
    "\n",
    "print(as.data.frame(m))"
   ]
  },
  {
   "cell_type": "code",
   "execution_count": 19,
   "metadata": {},
   "outputs": [
    {
     "data": {
      "image/png": "[encoded data removed]",
      "text/plain": [
       "plot without title"
      ]
     },
     "metadata": {},
     "output_type": "display_data"
    }
   ],
   "source": [
    "# The next plot illustrates that married people are more likely (by about 2%) to get a stroke than the ones \n",
    "# who are not married.\n",
    "ggplot(train.data,aes(x=married,group=stroke,fill=stroke))+\n",
    "  geom_histogram(position=\"identity\",binwidth=0.5)+theme_minimal()"
   ]
  },
  {
   "cell_type": "code",
   "execution_count": 47,
   "metadata": {},
   "outputs": [
    {
     "name": "stdout",
     "output_type": "stream",
     "text": [
      "# A tibble: 4 x 4\n",
      "# Groups:   married [2]\n",
      "  married stroke count percent\n",
      "    <dbl> <fct>  <int>   <dbl>\n",
      "1       0 0      15376   99.5 \n",
      "2       0 1         80    0.52\n",
      "3       1 0      27230   97.5 \n",
      "4       1 1        703    2.52\n"
     ]
    }
   ],
   "source": [
    "# The next table give it a more precise look. Single individuals have about 5 times less chance to get a stroke than\n",
    "# married people.\n",
    "n<-train.data%>%\n",
    "  group_by(married, stroke = as.factor(stroke))%>%\n",
    "  summarise(count = n())%>%\n",
    "  mutate(percent = round(count/sum(count)*100,2))%>%\n",
    "print(as.data.frame(n))"
   ]
  },
  {
   "cell_type": "code",
   "execution_count": 21,
   "metadata": {},
   "outputs": [
    {
     "data": {
      "image/png": "[encoded data removed]",
      "text/plain": [
       "plot without title"
      ]
     },
     "metadata": {},
     "output_type": "display_data"
    }
   ],
   "source": [
    "# Hipertension per stroke and non-stroke patients\n",
    "ggplot(train.data,aes(x=hypertension,group=stroke,fill=stroke))+\n",
    "  geom_histogram(position=\"identity\",binwidth=0.5)+theme_minimal()"
   ]
  },
  {
   "cell_type": "code",
   "execution_count": 48,
   "metadata": {},
   "outputs": [
    {
     "name": "stdout",
     "output_type": "stream",
     "text": [
      "# A tibble: 4 x 4\n",
      "# Groups:   hypertension [2]\n",
      "  hypertension stroke count percent\n",
      "         <int> <fct>  <int>   <dbl>\n",
      "1            0 0      38745   98.5 \n",
      "2            0 1        583    1.48\n",
      "3            1 0       3861   95.1 \n",
      "4            1 1        200    4.92\n"
     ]
    }
   ],
   "source": [
    "# 1.5% out of people without hypertension typically get a stroke, while about 5% out of patients with hypertension get \n",
    "# a stroke. # The latter indicates that people with hypertention have a higher risk to get a stroke than people who dont\n",
    "# have hypertension.\n",
    "k<-train.data%>%\n",
    "  group_by(hypertension, stroke = as.factor(stroke))%>%\n",
    "  summarise(count = n())%>%\n",
    "  mutate(percent = round(count/sum(count)*100,2))%>%\n",
    "print(as.data.frame(k))"
   ]
  },
  {
   "cell_type": "code",
   "execution_count": 23,
   "metadata": {},
   "outputs": [
    {
     "data": {
      "image/png": "[encoded data removed]",
      "text/plain": [
       "plot without title"
      ]
     },
     "metadata": {},
     "output_type": "display_data"
    }
   ],
   "source": [
    "# People with high bmi have more chances to get a stroke.\n",
    "bmi<-train.data %>%\n",
    "  group_by(stroke)%>%\n",
    "  summarise(bmi=mean(bmi))\n",
    "ggplot(bmi,aes(x = stroke,y=bmi)) +\n",
    "  geom_bar(stat=\"identity\",position=position_identity(), fill=\"lightblue\")+theme_minimal()"
   ]
  },
  {
   "cell_type": "code",
   "execution_count": 24,
   "metadata": {},
   "outputs": [
    {
     "data": {
      "image/png": "[encoded data removed]",
      "text/plain": [
       "plot without title"
      ]
     },
     "metadata": {},
     "output_type": "display_data"
    }
   ],
   "source": [
    "# The same refers to the glucose level. Stroke patients typically have a higher glucose level than healthy people.\n",
    "avg_clucose_level<-train.data %>%\n",
    "  group_by(stroke)%>%\n",
    "  summarise(avg_clucose_level=mean(bmi))\n",
    "ggplot(avg_clucose_level,aes(x = stroke,y=avg_clucose_level)) +\n",
    "  geom_bar(stat=\"identity\",position=position_identity(), fill=\"lightblue\")+theme_minimal()"
   ]
  },
  {
   "cell_type": "code",
   "execution_count": 25,
   "metadata": {},
   "outputs": [
    {
     "data": {
      "image/png": "[encoded data removed]",
      "text/plain": [
       "plot without title"
      ]
     },
     "metadata": {},
     "output_type": "display_data"
    }
   ],
   "source": [
    "# Glucose level by age\n",
    "ggplot(train.data, aes(x = age, y = avg_glucose_level)) + \n",
    "  geom_point() +\n",
    "  facet_wrap(~ stroke)+\n",
    "  geom_smooth(method = 'lm', color='lightblue')"
   ]
  },
  {
   "cell_type": "code",
   "execution_count": 26,
   "metadata": {},
   "outputs": [
    {
     "data": {
      "image/png": "[encoded data removed]",
      "text/plain": [
       "plot without title"
      ]
     },
     "metadata": {},
     "output_type": "display_data"
    }
   ],
   "source": [
    "# This boxplot demonstrates correlation between stroke and heart_desease. People with a heart disease\n",
    "# have higher chances to get a stroke.\n",
    "ggplot(train.data, aes(as.factor(heart_disease), age, fill = as.factor(heart_disease)))+\n",
    "  geom_boxplot()+\n",
    "  labs(title = \"Heart Disease by stoke/non-stroke patients\",\n",
    "    x = \"heart_disease\")+\n",
    "  scale_fill_discrete(\"heart_disease\")+\n",
    "  facet_wrap(~ stroke)+\n",
    "  theme(plot.title = element_text(hjust = .5))"
   ]
  },
  {
   "cell_type": "code",
   "execution_count": 49,
   "metadata": {},
   "outputs": [
    {
     "name": "stdout",
     "output_type": "stream",
     "text": [
      "# A tibble: 9 x 4\n",
      "# Groups:   work_type [5]\n",
      "  work_type     stroke count percent\n",
      "  <fct>         <fct>  <int>   <dbl>\n",
      "1 children      0       6152  100.0 \n",
      "2 children      1          2    0.03\n",
      "3 Govt_job      0       5349   98.4 \n",
      "4 Govt_job      1         89    1.64\n",
      "5 Never_worked  0        177  100   \n",
      "6 Private       0      24386   98.2 \n",
      "7 Private       1        441    1.78\n",
      "8 Self-employed 0       6542   96.3 \n",
      "9 Self-employed 1        251    3.69\n"
     ]
    }
   ],
   "source": [
    "# The next illustration shows the most interesting observations about the stroke. For example, people who never worked\n",
    "# have zero chance to get a stroke. However, self-employed have the highest risk factor 3.7%. It might be \n",
    "# explained that they experience more stress, and more responsibilities.\n",
    "l<-train.data%>%\n",
    "  group_by(work_type, stroke = as.factor(stroke))%>%\n",
    "  summarise(count = n())%>%\n",
    "  mutate(percent = round(count/sum(count)*100,2))%>%\n",
    "print(as.data.frame(l))"
   ]
  },
  {
   "cell_type": "code",
   "execution_count": 28,
   "metadata": {},
   "outputs": [
    {
     "data": {
      "image/png": "[encoded data removed]",
      "text/plain": [
       "plot without title"
      ]
     },
     "metadata": {},
     "output_type": "display_data"
    }
   ],
   "source": [
    "# Glucose level per jobe type. never_worked group has the lowest glucose lelvel, high stress work type like self-employed\n",
    "# relatively has the highest glucose value. \n",
    "# The same interpretation can be applied to bmi.\n",
    "ggplot(train.data, aes(reorder(work_type, avg_glucose_level), avg_glucose_level, fill = work_type))+\n",
    "  geom_boxplot()+\n",
    "  labs(    title = \"Glucose level by Work Type\",\n",
    "    x = \"work_type\")+\n",
    "  theme(plot.title = element_text(hjust = .5))"
   ]
  },
  {
   "cell_type": "code",
   "execution_count": 29,
   "metadata": {},
   "outputs": [
    {
     "data": {
      "image/png": "[encoded data removed]",
      "text/plain": [
       "plot without title"
      ]
     },
     "metadata": {},
     "output_type": "display_data"
    }
   ],
   "source": [
    "ggplot(train.data, aes(reorder(work_type, bmi), bmi, fill = work_type))+\n",
    "  geom_boxplot()+\n",
    "  labs(    title = \"BMI by Work Type\",\n",
    "           x = \"bmi\")+\n",
    "  theme(plot.title = element_text(hjust = .5))"
   ]
  },
  {
   "cell_type": "code",
   "execution_count": 50,
   "metadata": {},
   "outputs": [
    {
     "name": "stdout",
     "output_type": "stream",
     "text": [
      "# A tibble: 4 x 4\n",
      "# Groups:   rural_res [2]\n",
      "  rural_res stroke count percent\n",
      "      <dbl> <fct>  <int>   <dbl>\n",
      "1         0 0      21352   98.2 \n",
      "2         0 1        399    1.83\n",
      "3         1 0      21254   98.2 \n",
      "4         1 1        384    1.77\n"
     ]
    }
   ],
   "source": [
    "# Chances of stroke are almost equally distributed among rural vs urban residents which means residence type \n",
    "# merely affects stroke probability.\n",
    "o<-train.data%>%\n",
    "  group_by(rural_res, stroke = as.factor(stroke))%>%\n",
    "  summarise(count = n())%>%\n",
    "  mutate(percent = round(count/sum(count)*100,2))%>%\n",
    "print(as.data.frame(o))"
   ]
  },
  {
   "cell_type": "code",
   "execution_count": 51,
   "metadata": {},
   "outputs": [
    {
     "name": "stdout",
     "output_type": "stream",
     "text": [
      "# A tibble: 8 x 4\n",
      "# Groups:   smoking_status [4]\n",
      "  smoking_status  stroke count percent\n",
      "  <fct>           <fct>  <int>   <dbl>\n",
      "1 formerly smoked 0       7266   97.0 \n",
      "2 formerly smoked 1        221    2.95\n",
      "3 never smoked    0      15767   98.2 \n",
      "4 never smoked    1        284    1.77\n",
      "5 smokes          0       6428   98.0 \n",
      "6 smokes          1        133    2.03\n",
      "7 Unknown         0      13145   98.9 \n",
      "8 Unknown         1        145    1.09\n"
     ]
    }
   ],
   "source": [
    "# The difference between people who formerly smoked and never smoked and got a stroke is around 25%. \n",
    "p<-train.data%>%\n",
    "  group_by(smoking_status, stroke = as.factor(stroke))%>%\n",
    "  summarise(count = n())%>%\n",
    "  mutate(percent = round(count/sum(count)*100,2))%>%\n",
    "print(as.data.frame(p))"
   ]
  },
  {
   "cell_type": "code",
   "execution_count": 32,
   "metadata": {},
   "outputs": [
    {
     "data": {
      "image/png": "[encoded data removed]",
      "text/plain": [
       "plot without title"
      ]
     },
     "metadata": {},
     "output_type": "display_data"
    }
   ],
   "source": [
    "ggplot(train.data,aes(x=smoking_status,group=stroke,fill=stroke))+\n",
    "  geom_bar(position=\"dodge\")+theme_minimal()"
   ]
  },
  {
   "cell_type": "markdown",
   "metadata": {},
   "source": [
    "<h1><font color=\"red\"><center id=\"Regression analysis\">Regression analysis<a class=\"anchor-link\" href=\"#Reression analysis\">&#182;</a><center></font></h1>"
   ]
  },
  {
   "cell_type": "code",
   "execution_count": 33,
   "metadata": {},
   "outputs": [
    {
     "data": {
      "text/plain": [
       "\n",
       "Call:\n",
       "glm(formula = stroke ~ age + married + male + hypertension + \n",
       "    bmi + avg_glucose_level + heart_disease, family = \"binomial\", \n",
       "    data = train.data)\n",
       "\n",
       "Deviance Residuals: \n",
       "    Min       1Q   Median       3Q      Max  \n",
       "-0.8220  -0.1955  -0.1043  -0.0525   4.0453  \n",
       "\n",
       "Coefficients:\n",
       "                    Estimate Std. Error z value Pr(>|z|)    \n",
       "(Intercept)       -8.2721737  0.2845278 -29.073  < 2e-16 ***\n",
       "age                0.0700328  0.0029060  24.099  < 2e-16 ***\n",
       "married           -0.0641752  0.1239570  -0.518  0.60465    \n",
       "male               0.0900964  0.0751554   1.199  0.23061    \n",
       "hypertension       0.3137743  0.0873849   3.591  0.00033 ***\n",
       "bmi               -0.0093171  0.0060877  -1.530  0.12590    \n",
       "avg_glucose_level  0.0037533  0.0006566   5.716 1.09e-08 ***\n",
       "heart_disease      0.6266817  0.0941966   6.653 2.87e-11 ***\n",
       "---\n",
       "Signif. codes:  0 '***' 0.001 '**' 0.01 '*' 0.05 '.' 0.1 ' ' 1\n",
       "\n",
       "(Dispersion parameter for binomial family taken to be 1)\n",
       "\n",
       "    Null deviance: 7839.0  on 43388  degrees of freedom\n",
       "Residual deviance: 6451.7  on 43381  degrees of freedom\n",
       "AIC: 6467.7\n",
       "\n",
       "Number of Fisher Scoring iterations: 8\n"
      ]
     },
     "metadata": {},
     "output_type": "display_data"
    }
   ],
   "source": [
    "# Based on high p-values(>0.5), we identify insignificant variables like married.\n",
    "summary(glm(stroke ~ age+married+male+hypertension+bmi+avg_glucose_level+\n",
    "              heart_disease, data=train.data, family=\"binomial\"))"
   ]
  },
  {
   "cell_type": "code",
   "execution_count": 34,
   "metadata": {},
   "outputs": [
    {
     "data": {
      "text/plain": [
       "\n",
       "Call:\n",
       "glm(formula = stroke ~ age + hypertension + bmi + male + avg_glucose_level + \n",
       "    heart_disease, family = binomial, data = train.data)\n",
       "\n",
       "Deviance Residuals: \n",
       "    Min       1Q   Median       3Q      Max  \n",
       "-0.8230  -0.1960  -0.1045  -0.0516   4.0553  \n",
       "\n",
       "Coefficients:\n",
       "                    Estimate Std. Error z value Pr(>|z|)    \n",
       "(Intercept)       -8.3078422  0.2772934 -29.960  < 2e-16 ***\n",
       "age                0.0697791  0.0028751  24.270  < 2e-16 ***\n",
       "hypertension       0.3135123  0.0873690   3.588 0.000333 ***\n",
       "bmi               -0.0094598  0.0060860  -1.554 0.120098    \n",
       "male               0.0893218  0.0751373   1.189 0.234526    \n",
       "avg_glucose_level  0.0037496  0.0006565   5.712 1.12e-08 ***\n",
       "heart_disease      0.6275293  0.0941765   6.663 2.68e-11 ***\n",
       "---\n",
       "Signif. codes:  0 '***' 0.001 '**' 0.01 '*' 0.05 '.' 0.1 ' ' 1\n",
       "\n",
       "(Dispersion parameter for binomial family taken to be 1)\n",
       "\n",
       "    Null deviance: 7839  on 43388  degrees of freedom\n",
       "Residual deviance: 6452  on 43382  degrees of freedom\n",
       "AIC: 6466\n",
       "\n",
       "Number of Fisher Scoring iterations: 8\n"
      ]
     },
     "metadata": {},
     "output_type": "display_data"
    }
   ],
   "source": [
    "# We will repeat the model excluding insignificant variables.\n",
    "# AIC slightly reduced\n",
    "model<-glm(stroke ~ age+hypertension+bmi+male+avg_glucose_level+\n",
    "              heart_disease, data=train.data, family=binomial)\n",
    "summary(model)"
   ]
  },
  {
   "cell_type": "code",
   "execution_count": 35,
   "metadata": {},
   "outputs": [
    {
     "data": {
      "text/html": [
       "<dl class=dl-horizontal>\n",
       "\t<dt>(Intercept)</dt>\n",
       "\t\t<dd>0.000246575536230862</dd>\n",
       "\t<dt>age</dt>\n",
       "\t\t<dd>1.07227128720418</dd>\n",
       "\t<dt>hypertension</dt>\n",
       "\t\t<dd>1.36822235666482</dd>\n",
       "\t<dt>bmi</dt>\n",
       "\t\t<dd>0.990584760996336</dd>\n",
       "\t<dt>male</dt>\n",
       "\t\t<dd>1.09343249395676</dd>\n",
       "\t<dt>avg_glucose_level</dt>\n",
       "\t\t<dd>1.00375667319852</dd>\n",
       "\t<dt>heart_disease</dt>\n",
       "\t\t<dd>1.87297725905801</dd>\n",
       "</dl>\n"
      ],
      "text/latex": [
       "\\begin{description*}\n",
       "\\item[(Intercept)] 0.000246575536230862\n",
       "\\item[age] 1.07227128720418\n",
       "\\item[hypertension] 1.36822235666482\n",
       "\\item[bmi] 0.990584760996336\n",
       "\\item[male] 1.09343249395676\n",
       "\\item[avg\\textbackslash{}\\_glucose\\textbackslash{}\\_level] 1.00375667319852\n",
       "\\item[heart\\textbackslash{}\\_disease] 1.87297725905801\n",
       "\\end{description*}\n"
      ],
      "text/markdown": [
       "(Intercept)\n",
       ":   0.000246575536230862age\n",
       ":   1.07227128720418hypertension\n",
       ":   1.36822235666482bmi\n",
       ":   0.990584760996336male\n",
       ":   1.09343249395676avg_glucose_level\n",
       ":   1.00375667319852heart_disease\n",
       ":   1.87297725905801\n",
       "\n"
      ],
      "text/plain": [
       "      (Intercept)               age      hypertension               bmi \n",
       "     0.0002465755      1.0722712872      1.3682223567      0.9905847610 \n",
       "             male avg_glucose_level     heart_disease \n",
       "     1.0934324940      1.0037566732      1.8729772591 "
      ]
     },
     "metadata": {},
     "output_type": "display_data"
    }
   ],
   "source": [
    "exp(coef(model))"
   ]
  },
  {
   "cell_type": "markdown",
   "metadata": {},
   "source": [
    "#### Interpreting results of algorithms"
   ]
  },
  {
   "cell_type": "code",
   "execution_count": 36,
   "metadata": {},
   "outputs": [],
   "source": [
    "# The regression informs us that for every one unit increase in Age, \n",
    "# the odds of getting a stroke increases by a factor of 1.07.\n",
    "# every one unit increase in hypertension, \n",
    "# the odds of getting a stroke increases by a factor of 1.37.\n",
    "# every one unit increase in glucose level, \n",
    "# the odds of getting a stroke increases by a factor of 1.00.\n",
    "# every one unit increase in heart disease, \n",
    "# the odds of getting a stroke increases by a factor of 1.87."
   ]
  },
  {
   "cell_type": "markdown",
   "metadata": {},
   "source": [
    "<h1><font color=\"red\"><center id=\"Evaluation of the model\">Evaluation of the model<a class=\"anchor-link\" href=\"#Evaluation of the model\">&#182;</a><center></font></h1>"
   ]
  },
  {
   "cell_type": "code",
   "execution_count": 37,
   "metadata": {},
   "outputs": [
    {
     "data": {
      "text/html": [
       "<dl class=dl-horizontal>\n",
       "\t<dt>llh</dt>\n",
       "\t\t<dd>-3225.99878492846</dd>\n",
       "\t<dt>llhNull</dt>\n",
       "\t\t<dd>-3919.50282920918</dd>\n",
       "\t<dt>G2</dt>\n",
       "\t\t<dd>1387.00808856145</dd>\n",
       "\t<dt>McFadden</dt>\n",
       "\t\t<dd>0.176936737770042</dd>\n",
       "\t<dt>r2ML</dt>\n",
       "\t\t<dd>0.031461276436874</dd>\n",
       "\t<dt>r2CU</dt>\n",
       "\t\t<dd>0.190342632527222</dd>\n",
       "</dl>\n"
      ],
      "text/latex": [
       "\\begin{description*}\n",
       "\\item[llh] -3225.99878492846\n",
       "\\item[llhNull] -3919.50282920918\n",
       "\\item[G2] 1387.00808856145\n",
       "\\item[McFadden] 0.176936737770042\n",
       "\\item[r2ML] 0.031461276436874\n",
       "\\item[r2CU] 0.190342632527222\n",
       "\\end{description*}\n"
      ],
      "text/markdown": [
       "llh\n",
       ":   -3225.99878492846llhNull\n",
       ":   -3919.50282920918G2\n",
       ":   1387.00808856145McFadden\n",
       ":   0.176936737770042r2ML\n",
       ":   0.031461276436874r2CU\n",
       ":   0.190342632527222\n",
       "\n"
      ],
      "text/plain": [
       "          llh       llhNull            G2      McFadden          r2ML \n",
       "-3.225999e+03 -3.919503e+03  1.387008e+03  1.769367e-01  3.146128e-02 \n",
       "         r2CU \n",
       " 1.903426e-01 "
      ]
     },
     "metadata": {},
     "output_type": "display_data"
    }
   ],
   "source": [
    "# Pseudo R^2 to measure predictive power of the model\n",
    "# McFadden value is close to 0.18 which indicates that it is a good model, however it has a room for improvement. \n",
    "pR2(model)"
   ]
  },
  {
   "cell_type": "code",
   "execution_count": 38,
   "metadata": {},
   "outputs": [
    {
     "data": {
      "image/png": "[encoded data removed]",
      "text/plain": [
       "plot without title"
      ]
     },
     "metadata": {},
     "output_type": "display_data"
    }
   ],
   "source": [
    "# Compute AUC for predicting stroke with the model\n",
    "# ROC curve is pretty close to the upper left corner, which indicates the accuracy of the model. \n",
    "# Values above 0.80 indicate that the model does a good job in discriminating\n",
    "# between the two categories which comprise our target variable.\n",
    "prob <- predict(model, train.data, type=\"response\")\n",
    "pred <- prediction(prob, train.data$stroke)\n",
    "perf <- performance(pred, measure = \"tpr\", x.measure = \"fpr\")\n",
    "plot(perf)"
   ]
  },
  {
   "cell_type": "markdown",
   "metadata": {},
   "source": [
    "Our analysis identified the factors which influence probability of getting a stroke. They are high glucose level,\n",
    "older age, obeisity, high blood pressure, heart desease, high stress level (self-employed)."
   ]
  }
 ],
 "metadata": {
  "kernelspec": {
   "display_name": "R 3.2",
   "language": "R",
   "name": "ir32"
  },
  "language_info": {
   "codemirror_mode": "r",
   "file_extension": ".r",
   "mimetype": "text/x-r-source",
   "name": "R",
   "pygments_lexer": "r",
   "version": "3.5.1"
  }
 },
 "nbformat": 4,
 "nbformat_minor": 2
}
